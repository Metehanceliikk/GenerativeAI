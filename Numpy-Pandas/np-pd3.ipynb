{
 "cells": [
  {
   "cell_type": "code",
   "execution_count": 1,
   "id": "f76f696e-901b-455b-8b93-e8d4ba83ff00",
   "metadata": {},
   "outputs": [],
   "source": [
    "import numpy as np\n",
    "import pandas as pd"
   ]
  },
  {
   "cell_type": "code",
   "execution_count": 18,
   "id": "45900ddb-c565-442a-9e55-2759b480a370",
   "metadata": {},
   "outputs": [],
   "source": [
    "dataArray=np.random.rand(5,3)"
   ]
  },
  {
   "cell_type": "code",
   "execution_count": 20,
   "id": "86ccf58a-200a-43ed-ac6a-2d6ccce45c7b",
   "metadata": {},
   "outputs": [],
   "source": [
    "dataArray=pd.DataFrame(dataArray,index=[\"Personel1\",\"Personel2\",\"Personel3\",\"Personel4\",\"Personel5\"],\n",
    "                       columns=[\"Çalışma Saati\",\"Maaş Miktarı\",\"Proje Sayısı\"])"
   ]
  },
  {
   "cell_type": "code",
   "execution_count": 21,
   "id": "6249593a-88ac-45b8-bec5-256112eb33c9",
   "metadata": {},
   "outputs": [
    {
     "data": {
      "text/html": [
       "<div>\n",
       "<style scoped>\n",
       "    .dataframe tbody tr th:only-of-type {\n",
       "        vertical-align: middle;\n",
       "    }\n",
       "\n",
       "    .dataframe tbody tr th {\n",
       "        vertical-align: top;\n",
       "    }\n",
       "\n",
       "    .dataframe thead th {\n",
       "        text-align: right;\n",
       "    }\n",
       "</style>\n",
       "<table border=\"1\" class=\"dataframe\">\n",
       "  <thead>\n",
       "    <tr style=\"text-align: right;\">\n",
       "      <th></th>\n",
       "      <th>Çalışma Saati</th>\n",
       "      <th>Maaş Miktarı</th>\n",
       "      <th>Proje Sayısı</th>\n",
       "    </tr>\n",
       "  </thead>\n",
       "  <tbody>\n",
       "    <tr>\n",
       "      <th>Personel1</th>\n",
       "      <td>0.614668</td>\n",
       "      <td>0.566323</td>\n",
       "      <td>0.607786</td>\n",
       "    </tr>\n",
       "    <tr>\n",
       "      <th>Personel2</th>\n",
       "      <td>0.830936</td>\n",
       "      <td>0.823739</td>\n",
       "      <td>0.196142</td>\n",
       "    </tr>\n",
       "    <tr>\n",
       "      <th>Personel3</th>\n",
       "      <td>0.973777</td>\n",
       "      <td>0.285193</td>\n",
       "      <td>0.335481</td>\n",
       "    </tr>\n",
       "    <tr>\n",
       "      <th>Personel4</th>\n",
       "      <td>0.053353</td>\n",
       "      <td>0.145480</td>\n",
       "      <td>0.012016</td>\n",
       "    </tr>\n",
       "    <tr>\n",
       "      <th>Personel5</th>\n",
       "      <td>0.193972</td>\n",
       "      <td>0.293436</td>\n",
       "      <td>0.587516</td>\n",
       "    </tr>\n",
       "  </tbody>\n",
       "</table>\n",
       "</div>"
      ],
      "text/plain": [
       "           Çalışma Saati  Maaş Miktarı  Proje Sayısı\n",
       "Personel1       0.614668      0.566323      0.607786\n",
       "Personel2       0.830936      0.823739      0.196142\n",
       "Personel3       0.973777      0.285193      0.335481\n",
       "Personel4       0.053353      0.145480      0.012016\n",
       "Personel5       0.193972      0.293436      0.587516"
      ]
     },
     "execution_count": 21,
     "metadata": {},
     "output_type": "execute_result"
    }
   ],
   "source": [
    "dataArray"
   ]
  },
  {
   "cell_type": "code",
   "execution_count": 30,
   "id": "77bc4eaf-9993-475f-b9a8-eb4d34f69110",
   "metadata": {},
   "outputs": [],
   "source": [
    "dataArray[\"Yıl\"]=dataArray[\"Çalışma Saati\"]/2 # Yıl Kolonu Eklendi"
   ]
  },
  {
   "cell_type": "code",
   "execution_count": 25,
   "id": "e8b9cbef-070c-43ef-9b76-8205070f1ee1",
   "metadata": {},
   "outputs": [
    {
     "data": {
      "text/html": [
       "<div>\n",
       "<style scoped>\n",
       "    .dataframe tbody tr th:only-of-type {\n",
       "        vertical-align: middle;\n",
       "    }\n",
       "\n",
       "    .dataframe tbody tr th {\n",
       "        vertical-align: top;\n",
       "    }\n",
       "\n",
       "    .dataframe thead th {\n",
       "        text-align: right;\n",
       "    }\n",
       "</style>\n",
       "<table border=\"1\" class=\"dataframe\">\n",
       "  <thead>\n",
       "    <tr style=\"text-align: right;\">\n",
       "      <th></th>\n",
       "      <th>Çalışma Saati</th>\n",
       "      <th>Maaş Miktarı</th>\n",
       "      <th>Proje Sayısı</th>\n",
       "      <th>Yıl</th>\n",
       "    </tr>\n",
       "  </thead>\n",
       "  <tbody>\n",
       "    <tr>\n",
       "      <th>Personel1</th>\n",
       "      <td>0.614668</td>\n",
       "      <td>0.566323</td>\n",
       "      <td>0.607786</td>\n",
       "      <td>0.307334</td>\n",
       "    </tr>\n",
       "    <tr>\n",
       "      <th>Personel2</th>\n",
       "      <td>0.830936</td>\n",
       "      <td>0.823739</td>\n",
       "      <td>0.196142</td>\n",
       "      <td>0.415468</td>\n",
       "    </tr>\n",
       "    <tr>\n",
       "      <th>Personel3</th>\n",
       "      <td>0.973777</td>\n",
       "      <td>0.285193</td>\n",
       "      <td>0.335481</td>\n",
       "      <td>0.486888</td>\n",
       "    </tr>\n",
       "    <tr>\n",
       "      <th>Personel4</th>\n",
       "      <td>0.053353</td>\n",
       "      <td>0.145480</td>\n",
       "      <td>0.012016</td>\n",
       "      <td>0.026677</td>\n",
       "    </tr>\n",
       "    <tr>\n",
       "      <th>Personel5</th>\n",
       "      <td>0.193972</td>\n",
       "      <td>0.293436</td>\n",
       "      <td>0.587516</td>\n",
       "      <td>0.096986</td>\n",
       "    </tr>\n",
       "  </tbody>\n",
       "</table>\n",
       "</div>"
      ],
      "text/plain": [
       "           Çalışma Saati  Maaş Miktarı  Proje Sayısı       Yıl\n",
       "Personel1       0.614668      0.566323      0.607786  0.307334\n",
       "Personel2       0.830936      0.823739      0.196142  0.415468\n",
       "Personel3       0.973777      0.285193      0.335481  0.486888\n",
       "Personel4       0.053353      0.145480      0.012016  0.026677\n",
       "Personel5       0.193972      0.293436      0.587516  0.096986"
      ]
     },
     "execution_count": 25,
     "metadata": {},
     "output_type": "execute_result"
    }
   ],
   "source": [
    "dataArray"
   ]
  },
  {
   "cell_type": "code",
   "execution_count": 31,
   "id": "db832720-cc1f-410c-89bb-78e143be15d2",
   "metadata": {},
   "outputs": [
    {
     "data": {
      "text/html": [
       "<div>\n",
       "<style scoped>\n",
       "    .dataframe tbody tr th:only-of-type {\n",
       "        vertical-align: middle;\n",
       "    }\n",
       "\n",
       "    .dataframe tbody tr th {\n",
       "        vertical-align: top;\n",
       "    }\n",
       "\n",
       "    .dataframe thead th {\n",
       "        text-align: right;\n",
       "    }\n",
       "</style>\n",
       "<table border=\"1\" class=\"dataframe\">\n",
       "  <thead>\n",
       "    <tr style=\"text-align: right;\">\n",
       "      <th></th>\n",
       "      <th>Çalışma Saati</th>\n",
       "      <th>Maaş Miktarı</th>\n",
       "      <th>Yıl</th>\n",
       "    </tr>\n",
       "  </thead>\n",
       "  <tbody>\n",
       "    <tr>\n",
       "      <th>Personel1</th>\n",
       "      <td>0.614668</td>\n",
       "      <td>0.566323</td>\n",
       "      <td>0.307334</td>\n",
       "    </tr>\n",
       "    <tr>\n",
       "      <th>Personel2</th>\n",
       "      <td>0.830936</td>\n",
       "      <td>0.823739</td>\n",
       "      <td>0.415468</td>\n",
       "    </tr>\n",
       "    <tr>\n",
       "      <th>Personel3</th>\n",
       "      <td>0.973777</td>\n",
       "      <td>0.285193</td>\n",
       "      <td>0.486888</td>\n",
       "    </tr>\n",
       "    <tr>\n",
       "      <th>Personel4</th>\n",
       "      <td>0.053353</td>\n",
       "      <td>0.145480</td>\n",
       "      <td>0.026677</td>\n",
       "    </tr>\n",
       "    <tr>\n",
       "      <th>Personel5</th>\n",
       "      <td>0.193972</td>\n",
       "      <td>0.293436</td>\n",
       "      <td>0.096986</td>\n",
       "    </tr>\n",
       "  </tbody>\n",
       "</table>\n",
       "</div>"
      ],
      "text/plain": [
       "           Çalışma Saati  Maaş Miktarı       Yıl\n",
       "Personel1       0.614668      0.566323  0.307334\n",
       "Personel2       0.830936      0.823739  0.415468\n",
       "Personel3       0.973777      0.285193  0.486888\n",
       "Personel4       0.053353      0.145480  0.026677\n",
       "Personel5       0.193972      0.293436  0.096986"
      ]
     },
     "execution_count": 31,
     "metadata": {},
     "output_type": "execute_result"
    }
   ],
   "source": [
    "dataArray.drop(\"Proje Sayısı\",axis=1) # Proje Saati Kolonu Çıkarıldı"
   ]
  },
  {
   "cell_type": "code",
   "execution_count": 37,
   "id": "9aac3a97-34ab-4167-9143-0be0a138e71a",
   "metadata": {},
   "outputs": [
    {
     "data": {
      "text/html": [
       "<div>\n",
       "<style scoped>\n",
       "    .dataframe tbody tr th:only-of-type {\n",
       "        vertical-align: middle;\n",
       "    }\n",
       "\n",
       "    .dataframe tbody tr th {\n",
       "        vertical-align: top;\n",
       "    }\n",
       "\n",
       "    .dataframe thead th {\n",
       "        text-align: right;\n",
       "    }\n",
       "</style>\n",
       "<table border=\"1\" class=\"dataframe\">\n",
       "  <thead>\n",
       "    <tr style=\"text-align: right;\">\n",
       "      <th></th>\n",
       "      <th>Çalışma Saati</th>\n",
       "      <th>Maaş Miktarı</th>\n",
       "      <th>Proje Sayısı</th>\n",
       "      <th>Yıl</th>\n",
       "    </tr>\n",
       "  </thead>\n",
       "  <tbody>\n",
       "    <tr>\n",
       "      <th>Personel1</th>\n",
       "      <td>0.614668</td>\n",
       "      <td>0.566323</td>\n",
       "      <td>0.607786</td>\n",
       "      <td>0.307334</td>\n",
       "    </tr>\n",
       "    <tr>\n",
       "      <th>Personel2</th>\n",
       "      <td>0.830936</td>\n",
       "      <td>0.823739</td>\n",
       "      <td>0.196142</td>\n",
       "      <td>0.415468</td>\n",
       "    </tr>\n",
       "    <tr>\n",
       "      <th>Personel3</th>\n",
       "      <td>0.973777</td>\n",
       "      <td>0.285193</td>\n",
       "      <td>0.335481</td>\n",
       "      <td>0.486888</td>\n",
       "    </tr>\n",
       "  </tbody>\n",
       "</table>\n",
       "</div>"
      ],
      "text/plain": [
       "           Çalışma Saati  Maaş Miktarı  Proje Sayısı       Yıl\n",
       "Personel1       0.614668      0.566323      0.607786  0.307334\n",
       "Personel2       0.830936      0.823739      0.196142  0.415468\n",
       "Personel3       0.973777      0.285193      0.335481  0.486888"
      ]
     },
     "execution_count": 37,
     "metadata": {},
     "output_type": "execute_result"
    }
   ],
   "source": [
    "dataArray[dataArray[\"Çalışma Saati\"]>0.6]  # Çalışma Saati 0.6 değerinden büyük olan personeller çağrıldı"
   ]
  }
 ],
 "metadata": {
  "kernelspec": {
   "display_name": "Python 3 (ipykernel)",
   "language": "python",
   "name": "python3"
  },
  "language_info": {
   "codemirror_mode": {
    "name": "ipython",
    "version": 3
   },
   "file_extension": ".py",
   "mimetype": "text/x-python",
   "name": "python",
   "nbconvert_exporter": "python",
   "pygments_lexer": "ipython3",
   "version": "3.12.4"
  }
 },
 "nbformat": 4,
 "nbformat_minor": 5
}
