{
 "cells": [
  {
   "cell_type": "code",
   "execution_count": 1,
   "id": "77495072-ce65-4aa4-9037-cf75a8b30c7b",
   "metadata": {},
   "outputs": [],
   "source": [
    "import numpy as np\n",
    "import pandas as pd"
   ]
  },
  {
   "cell_type": "code",
   "execution_count": 13,
   "id": "a5692206-ecf9-4686-8c7a-ad8793cb06cc",
   "metadata": {},
   "outputs": [],
   "source": [
    "disIndexAlanlar=[\"Saglık\",\"Saglık\",\"Saglık\",\"Muhendislik\",\"Muhendislik\",\"Bilim\",\"Bilim\"]"
   ]
  },
  {
   "cell_type": "code",
   "execution_count": 14,
   "id": "0110c78a-385d-489a-90bf-2eeec16f78d2",
   "metadata": {},
   "outputs": [],
   "source": [
    "icIndexMeslekler=[\"Doktor\",\"Eczacı\",\"Hemsire\",\"Bilgisayar\",\"Yazılım\",\"Biyolog\",\"Fizikci\"]"
   ]
  },
  {
   "cell_type": "code",
   "execution_count": 15,
   "id": "3a539916-6389-4806-b060-1c1c011888b4",
   "metadata": {},
   "outputs": [],
   "source": [
    "birlesmisListe=list(zip(disIndexAlanlar,icIndexMeslekler))"
   ]
  },
  {
   "cell_type": "code",
   "execution_count": 16,
   "id": "147a4ff6-e06b-4631-a2c5-06e2d008a12a",
   "metadata": {},
   "outputs": [],
   "source": [
    "birlesmisListe=pd.MultiIndex.from_tuples(birlesmisListe)"
   ]
  },
  {
   "cell_type": "code",
   "execution_count": 17,
   "id": "a30bf157-1ce6-44f9-8c0f-96e32f147a4b",
   "metadata": {},
   "outputs": [],
   "source": [
    "dataListesi=np.array([[20000,6],[45000,5],[120000,4],[85000,4],[90000,4],[100000,4],[95000,4]])"
   ]
  },
  {
   "cell_type": "code",
   "execution_count": 19,
   "id": "e4f2104a-b6b4-4cfb-832f-56d14c3090e9",
   "metadata": {},
   "outputs": [],
   "source": [
    "dataFrameListesi=pd.DataFrame(data=dataListesi,index=birlesmisListe,columns=[\"Sıralama(ortalama)\",\"Yıl\"])"
   ]
  },
  {
   "cell_type": "code",
   "execution_count": 20,
   "id": "9ae3ee07-d1f7-4968-8cd6-f5216bbb2401",
   "metadata": {},
   "outputs": [
    {
     "data": {
      "text/html": [
       "<div>\n",
       "<style scoped>\n",
       "    .dataframe tbody tr th:only-of-type {\n",
       "        vertical-align: middle;\n",
       "    }\n",
       "\n",
       "    .dataframe tbody tr th {\n",
       "        vertical-align: top;\n",
       "    }\n",
       "\n",
       "    .dataframe thead th {\n",
       "        text-align: right;\n",
       "    }\n",
       "</style>\n",
       "<table border=\"1\" class=\"dataframe\">\n",
       "  <thead>\n",
       "    <tr style=\"text-align: right;\">\n",
       "      <th></th>\n",
       "      <th></th>\n",
       "      <th>Sıralama(ortalama)</th>\n",
       "      <th>Yıl</th>\n",
       "    </tr>\n",
       "  </thead>\n",
       "  <tbody>\n",
       "    <tr>\n",
       "      <th rowspan=\"3\" valign=\"top\">Saglık</th>\n",
       "      <th>Doktor</th>\n",
       "      <td>20000</td>\n",
       "      <td>6</td>\n",
       "    </tr>\n",
       "    <tr>\n",
       "      <th>Eczacı</th>\n",
       "      <td>45000</td>\n",
       "      <td>5</td>\n",
       "    </tr>\n",
       "    <tr>\n",
       "      <th>Hemsire</th>\n",
       "      <td>120000</td>\n",
       "      <td>4</td>\n",
       "    </tr>\n",
       "    <tr>\n",
       "      <th rowspan=\"2\" valign=\"top\">Muhendislik</th>\n",
       "      <th>Bilgisayar</th>\n",
       "      <td>85000</td>\n",
       "      <td>4</td>\n",
       "    </tr>\n",
       "    <tr>\n",
       "      <th>Yazılım</th>\n",
       "      <td>90000</td>\n",
       "      <td>4</td>\n",
       "    </tr>\n",
       "    <tr>\n",
       "      <th rowspan=\"2\" valign=\"top\">Bilim</th>\n",
       "      <th>Biyolog</th>\n",
       "      <td>100000</td>\n",
       "      <td>4</td>\n",
       "    </tr>\n",
       "    <tr>\n",
       "      <th>Fizikci</th>\n",
       "      <td>95000</td>\n",
       "      <td>4</td>\n",
       "    </tr>\n",
       "  </tbody>\n",
       "</table>\n",
       "</div>"
      ],
      "text/plain": [
       "                        Sıralama(ortalama)  Yıl\n",
       "Saglık      Doktor                   20000    6\n",
       "            Eczacı                   45000    5\n",
       "            Hemsire                 120000    4\n",
       "Muhendislik Bilgisayar               85000    4\n",
       "            Yazılım                  90000    4\n",
       "Bilim       Biyolog                 100000    4\n",
       "            Fizikci                  95000    4"
      ]
     },
     "execution_count": 20,
     "metadata": {},
     "output_type": "execute_result"
    }
   ],
   "source": [
    "dataFrameListesi"
   ]
  },
  {
   "cell_type": "code",
   "execution_count": 22,
   "id": "0cfddf5e-a248-4322-a2a9-59313b5c8c9a",
   "metadata": {},
   "outputs": [
    {
     "data": {
      "text/html": [
       "<div>\n",
       "<style scoped>\n",
       "    .dataframe tbody tr th:only-of-type {\n",
       "        vertical-align: middle;\n",
       "    }\n",
       "\n",
       "    .dataframe tbody tr th {\n",
       "        vertical-align: top;\n",
       "    }\n",
       "\n",
       "    .dataframe thead th {\n",
       "        text-align: right;\n",
       "    }\n",
       "</style>\n",
       "<table border=\"1\" class=\"dataframe\">\n",
       "  <thead>\n",
       "    <tr style=\"text-align: right;\">\n",
       "      <th></th>\n",
       "      <th>Sıralama(ortalama)</th>\n",
       "      <th>Yıl</th>\n",
       "    </tr>\n",
       "  </thead>\n",
       "  <tbody>\n",
       "    <tr>\n",
       "      <th>Biyolog</th>\n",
       "      <td>100000</td>\n",
       "      <td>4</td>\n",
       "    </tr>\n",
       "    <tr>\n",
       "      <th>Fizikci</th>\n",
       "      <td>95000</td>\n",
       "      <td>4</td>\n",
       "    </tr>\n",
       "  </tbody>\n",
       "</table>\n",
       "</div>"
      ],
      "text/plain": [
       "         Sıralama(ortalama)  Yıl\n",
       "Biyolog              100000    4\n",
       "Fizikci               95000    4"
      ]
     },
     "execution_count": 22,
     "metadata": {},
     "output_type": "execute_result"
    }
   ],
   "source": [
    "dataFrameListesi.loc[\"Bilim\"]"
   ]
  },
  {
   "cell_type": "code",
   "execution_count": 24,
   "id": "f023e78e-ef6a-442b-8264-7f3457fc87a9",
   "metadata": {},
   "outputs": [
    {
     "data": {
      "text/html": [
       "<div>\n",
       "<style scoped>\n",
       "    .dataframe tbody tr th:only-of-type {\n",
       "        vertical-align: middle;\n",
       "    }\n",
       "\n",
       "    .dataframe tbody tr th {\n",
       "        vertical-align: top;\n",
       "    }\n",
       "\n",
       "    .dataframe thead th {\n",
       "        text-align: right;\n",
       "    }\n",
       "</style>\n",
       "<table border=\"1\" class=\"dataframe\">\n",
       "  <thead>\n",
       "    <tr style=\"text-align: right;\">\n",
       "      <th></th>\n",
       "      <th>Sıralama(ortalama)</th>\n",
       "      <th>Yıl</th>\n",
       "    </tr>\n",
       "  </thead>\n",
       "  <tbody>\n",
       "    <tr>\n",
       "      <th>Doktor</th>\n",
       "      <td>20000</td>\n",
       "      <td>6</td>\n",
       "    </tr>\n",
       "    <tr>\n",
       "      <th>Eczacı</th>\n",
       "      <td>45000</td>\n",
       "      <td>5</td>\n",
       "    </tr>\n",
       "    <tr>\n",
       "      <th>Hemsire</th>\n",
       "      <td>120000</td>\n",
       "      <td>4</td>\n",
       "    </tr>\n",
       "  </tbody>\n",
       "</table>\n",
       "</div>"
      ],
      "text/plain": [
       "         Sıralama(ortalama)  Yıl\n",
       "Doktor                20000    6\n",
       "Eczacı                45000    5\n",
       "Hemsire              120000    4"
      ]
     },
     "execution_count": 24,
     "metadata": {},
     "output_type": "execute_result"
    }
   ],
   "source": [
    "dataFrameListesi.loc[\"Saglık\"]"
   ]
  },
  {
   "cell_type": "code",
   "execution_count": 23,
   "id": "9faa972f-eb34-496a-bf40-6c39b39022cf",
   "metadata": {},
   "outputs": [
    {
     "data": {
      "text/html": [
       "<div>\n",
       "<style scoped>\n",
       "    .dataframe tbody tr th:only-of-type {\n",
       "        vertical-align: middle;\n",
       "    }\n",
       "\n",
       "    .dataframe tbody tr th {\n",
       "        vertical-align: top;\n",
       "    }\n",
       "\n",
       "    .dataframe thead th {\n",
       "        text-align: right;\n",
       "    }\n",
       "</style>\n",
       "<table border=\"1\" class=\"dataframe\">\n",
       "  <thead>\n",
       "    <tr style=\"text-align: right;\">\n",
       "      <th></th>\n",
       "      <th>Sıralama(ortalama)</th>\n",
       "      <th>Yıl</th>\n",
       "    </tr>\n",
       "  </thead>\n",
       "  <tbody>\n",
       "    <tr>\n",
       "      <th>Bilgisayar</th>\n",
       "      <td>85000</td>\n",
       "      <td>4</td>\n",
       "    </tr>\n",
       "    <tr>\n",
       "      <th>Yazılım</th>\n",
       "      <td>90000</td>\n",
       "      <td>4</td>\n",
       "    </tr>\n",
       "  </tbody>\n",
       "</table>\n",
       "</div>"
      ],
      "text/plain": [
       "            Sıralama(ortalama)  Yıl\n",
       "Bilgisayar               85000    4\n",
       "Yazılım                  90000    4"
      ]
     },
     "execution_count": 23,
     "metadata": {},
     "output_type": "execute_result"
    }
   ],
   "source": [
    "dataFrameListesi.loc[\"Muhendislik\"]"
   ]
  }
 ],
 "metadata": {
  "kernelspec": {
   "display_name": "Python 3 (ipykernel)",
   "language": "python",
   "name": "python3"
  },
  "language_info": {
   "codemirror_mode": {
    "name": "ipython",
    "version": 3
   },
   "file_extension": ".py",
   "mimetype": "text/x-python",
   "name": "python",
   "nbconvert_exporter": "python",
   "pygments_lexer": "ipython3",
   "version": "3.12.4"
  }
 },
 "nbformat": 4,
 "nbformat_minor": 5
}
