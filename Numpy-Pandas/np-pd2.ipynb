{
 "cells": [
  {
   "cell_type": "code",
   "execution_count": 1,
   "id": "6e0a6f40-0aa2-4adc-a6f8-f08af101fbbd",
   "metadata": {},
   "outputs": [],
   "source": [
    "import numpy as np\n",
    "import pandas as pd"
   ]
  },
  {
   "cell_type": "code",
   "execution_count": 2,
   "id": "4d8ab713-5318-4d93-8694-07460d5cd1ac",
   "metadata": {},
   "outputs": [],
   "source": [
    "disIndex=[\"Fenerbahçe\",\"Fenerbahçe\",\"Fenerbahçe\",\"Galatasaray\",\"Galatasaray\",\"Galatasaray\",\"Beşiktaş\",\"Beşiktaş\",\"Beşiktaş\"]"
   ]
  },
  {
   "cell_type": "code",
   "execution_count": 4,
   "id": "40bb1831-166b-4ae1-afcd-37653d031cb1",
   "metadata": {},
   "outputs": [],
   "source": [
    "icIndex=[\"DZEKO\",\"TADIC\",\"SZYMANSKI\",\"ICARDI\",\"MERTENS\",\"ZAHA\",\"RAFA\",\"SEMIH\",\"RASHICA\"]"
   ]
  },
  {
   "cell_type": "code",
   "execution_count": 5,
   "id": "02c55190-9cd1-4414-af06-67910ab115b5",
   "metadata": {},
   "outputs": [],
   "source": [
    "birlesmisListe=list(zip(disIndex,icIndex))"
   ]
  },
  {
   "cell_type": "code",
   "execution_count": 7,
   "id": "1fe4c2bc-82c9-44a8-a9fd-b70fc064a578",
   "metadata": {},
   "outputs": [
    {
     "data": {
      "text/plain": [
       "[('Fenerbahçe', 'DZEKO'),\n",
       " ('Fenerbahçe', 'TADIC'),\n",
       " ('Fenerbahçe', 'SZYMANSKI'),\n",
       " ('Galatasaray', 'ICARDI'),\n",
       " ('Galatasaray', 'MERTENS'),\n",
       " ('Galatasaray', 'ZAHA'),\n",
       " ('Beşiktaş', 'RAFA'),\n",
       " ('Beşiktaş', 'SEMIH'),\n",
       " ('Beşiktaş', 'RASHICA')]"
      ]
     },
     "execution_count": 7,
     "metadata": {},
     "output_type": "execute_result"
    }
   ],
   "source": [
    "birlesmisListe"
   ]
  },
  {
   "cell_type": "code",
   "execution_count": 8,
   "id": "e647bc9c-751c-4d2f-a10a-4c3d3e8f2ac6",
   "metadata": {},
   "outputs": [],
   "source": [
    "birlesmisListe=pd.MultiIndex.from_tuples(birlesmisListe)"
   ]
  },
  {
   "cell_type": "code",
   "execution_count": 9,
   "id": "926cf668-df77-4d60-845d-bf98e8feba93",
   "metadata": {},
   "outputs": [
    {
     "data": {
      "text/plain": [
       "MultiIndex([( 'Fenerbahçe',     'DZEKO'),\n",
       "            ( 'Fenerbahçe',     'TADIC'),\n",
       "            ( 'Fenerbahçe', 'SZYMANSKI'),\n",
       "            ('Galatasaray',    'ICARDI'),\n",
       "            ('Galatasaray',   'MERTENS'),\n",
       "            ('Galatasaray',      'ZAHA'),\n",
       "            (   'Beşiktaş',      'RAFA'),\n",
       "            (   'Beşiktaş',     'SEMIH'),\n",
       "            (   'Beşiktaş',   'RASHICA')],\n",
       "           )"
      ]
     },
     "execution_count": 9,
     "metadata": {},
     "output_type": "execute_result"
    }
   ],
   "source": [
    "birlesmisListe"
   ]
  },
  {
   "cell_type": "code",
   "execution_count": 11,
   "id": "e3f8ad06-64d6-450a-9cb8-7af034552cdc",
   "metadata": {},
   "outputs": [],
   "source": [
    "VeriListesi=[[250000,38],[220000,35],[250000,28],[650000,30],[360000,38],[200000,29],[22000,32],[540000,21],[564000,28],]"
   ]
  },
  {
   "cell_type": "code",
   "execution_count": 12,
   "id": "030d8970-cf2e-46fb-aa91-912cbe98df94",
   "metadata": {},
   "outputs": [],
   "source": [
    "numpyListesi=np.array(VeriListesi)"
   ]
  },
  {
   "cell_type": "code",
   "execution_count": 16,
   "id": "d4960c3c-54f2-4069-9eb8-a50a46653377",
   "metadata": {},
   "outputs": [
    {
     "data": {
      "text/plain": [
       "array([[250000,     38],\n",
       "       [220000,     35],\n",
       "       [250000,     28],\n",
       "       [650000,     30],\n",
       "       [360000,     38],\n",
       "       [200000,     29],\n",
       "       [ 22000,     32],\n",
       "       [540000,     21],\n",
       "       [564000,     28]])"
      ]
     },
     "execution_count": 16,
     "metadata": {},
     "output_type": "execute_result"
    }
   ],
   "source": [
    "numpyListesi"
   ]
  },
  {
   "cell_type": "code",
   "execution_count": 21,
   "id": "6f31bb55-36d8-4b41-868d-c12aff492f56",
   "metadata": {},
   "outputs": [],
   "source": [
    "dataFrameListesi=pd.DataFrame(numpyListesi,index=birlesmisListe,columns=[\"Değer\",\"Yas\"])"
   ]
  },
  {
   "cell_type": "code",
   "execution_count": 22,
   "id": "f0c98728-679d-40d3-b62d-6e636d58446d",
   "metadata": {},
   "outputs": [
    {
     "data": {
      "text/html": [
       "<div>\n",
       "<style scoped>\n",
       "    .dataframe tbody tr th:only-of-type {\n",
       "        vertical-align: middle;\n",
       "    }\n",
       "\n",
       "    .dataframe tbody tr th {\n",
       "        vertical-align: top;\n",
       "    }\n",
       "\n",
       "    .dataframe thead th {\n",
       "        text-align: right;\n",
       "    }\n",
       "</style>\n",
       "<table border=\"1\" class=\"dataframe\">\n",
       "  <thead>\n",
       "    <tr style=\"text-align: right;\">\n",
       "      <th></th>\n",
       "      <th></th>\n",
       "      <th>Değer</th>\n",
       "      <th>Yas</th>\n",
       "    </tr>\n",
       "  </thead>\n",
       "  <tbody>\n",
       "    <tr>\n",
       "      <th rowspan=\"3\" valign=\"top\">Fenerbahçe</th>\n",
       "      <th>DZEKO</th>\n",
       "      <td>250000</td>\n",
       "      <td>38</td>\n",
       "    </tr>\n",
       "    <tr>\n",
       "      <th>TADIC</th>\n",
       "      <td>220000</td>\n",
       "      <td>35</td>\n",
       "    </tr>\n",
       "    <tr>\n",
       "      <th>SZYMANSKI</th>\n",
       "      <td>250000</td>\n",
       "      <td>28</td>\n",
       "    </tr>\n",
       "    <tr>\n",
       "      <th rowspan=\"3\" valign=\"top\">Galatasaray</th>\n",
       "      <th>ICARDI</th>\n",
       "      <td>650000</td>\n",
       "      <td>30</td>\n",
       "    </tr>\n",
       "    <tr>\n",
       "      <th>MERTENS</th>\n",
       "      <td>360000</td>\n",
       "      <td>38</td>\n",
       "    </tr>\n",
       "    <tr>\n",
       "      <th>ZAHA</th>\n",
       "      <td>200000</td>\n",
       "      <td>29</td>\n",
       "    </tr>\n",
       "    <tr>\n",
       "      <th rowspan=\"3\" valign=\"top\">Beşiktaş</th>\n",
       "      <th>RAFA</th>\n",
       "      <td>22000</td>\n",
       "      <td>32</td>\n",
       "    </tr>\n",
       "    <tr>\n",
       "      <th>SEMIH</th>\n",
       "      <td>540000</td>\n",
       "      <td>21</td>\n",
       "    </tr>\n",
       "    <tr>\n",
       "      <th>RASHICA</th>\n",
       "      <td>564000</td>\n",
       "      <td>28</td>\n",
       "    </tr>\n",
       "  </tbody>\n",
       "</table>\n",
       "</div>"
      ],
      "text/plain": [
       "                        Değer  Yas\n",
       "Fenerbahçe  DZEKO      250000   38\n",
       "            TADIC      220000   35\n",
       "            SZYMANSKI  250000   28\n",
       "Galatasaray ICARDI     650000   30\n",
       "            MERTENS    360000   38\n",
       "            ZAHA       200000   29\n",
       "Beşiktaş    RAFA        22000   32\n",
       "            SEMIH      540000   21\n",
       "            RASHICA    564000   28"
      ]
     },
     "execution_count": 22,
     "metadata": {},
     "output_type": "execute_result"
    }
   ],
   "source": [
    "dataFrameListesi"
   ]
  },
  {
   "cell_type": "code",
   "execution_count": 25,
   "id": "13533949-e000-42e6-bb72-a843e43e37c7",
   "metadata": {},
   "outputs": [
    {
     "data": {
      "text/html": [
       "<div>\n",
       "<style scoped>\n",
       "    .dataframe tbody tr th:only-of-type {\n",
       "        vertical-align: middle;\n",
       "    }\n",
       "\n",
       "    .dataframe tbody tr th {\n",
       "        vertical-align: top;\n",
       "    }\n",
       "\n",
       "    .dataframe thead th {\n",
       "        text-align: right;\n",
       "    }\n",
       "</style>\n",
       "<table border=\"1\" class=\"dataframe\">\n",
       "  <thead>\n",
       "    <tr style=\"text-align: right;\">\n",
       "      <th></th>\n",
       "      <th>Değer</th>\n",
       "      <th>Yas</th>\n",
       "    </tr>\n",
       "  </thead>\n",
       "  <tbody>\n",
       "    <tr>\n",
       "      <th>DZEKO</th>\n",
       "      <td>250000</td>\n",
       "      <td>38</td>\n",
       "    </tr>\n",
       "    <tr>\n",
       "      <th>TADIC</th>\n",
       "      <td>220000</td>\n",
       "      <td>35</td>\n",
       "    </tr>\n",
       "    <tr>\n",
       "      <th>SZYMANSKI</th>\n",
       "      <td>250000</td>\n",
       "      <td>28</td>\n",
       "    </tr>\n",
       "  </tbody>\n",
       "</table>\n",
       "</div>"
      ],
      "text/plain": [
       "            Değer  Yas\n",
       "DZEKO      250000   38\n",
       "TADIC      220000   35\n",
       "SZYMANSKI  250000   28"
      ]
     },
     "execution_count": 25,
     "metadata": {},
     "output_type": "execute_result"
    }
   ],
   "source": [
    "dataFrameListesi.loc[\"Fenerbahçe\"]"
   ]
  },
  {
   "cell_type": "code",
   "execution_count": 28,
   "id": "a3286335-c609-46da-9c30-5de3e52a65c8",
   "metadata": {},
   "outputs": [
    {
     "data": {
      "text/plain": [
       "DZEKO        250000\n",
       "TADIC        220000\n",
       "SZYMANSKI    250000\n",
       "Name: Değer, dtype: int32"
      ]
     },
     "execution_count": 28,
     "metadata": {},
     "output_type": "execute_result"
    }
   ],
   "source": [
    "dataFrameListesi.loc[\"Fenerbahçe\"][\"Değer\"]"
   ]
  },
  {
   "cell_type": "code",
   "execution_count": null,
   "id": "a66bbe0b-8d06-4b4f-9d7a-9c60c2238612",
   "metadata": {},
   "outputs": [],
   "source": []
  }
 ],
 "metadata": {
  "kernelspec": {
   "display_name": "Python 3 (ipykernel)",
   "language": "python",
   "name": "python3"
  },
  "language_info": {
   "codemirror_mode": {
    "name": "ipython",
    "version": 3
   },
   "file_extension": ".py",
   "mimetype": "text/x-python",
   "name": "python",
   "nbconvert_exporter": "python",
   "pygments_lexer": "ipython3",
   "version": "3.12.4"
  }
 },
 "nbformat": 4,
 "nbformat_minor": 5
}
